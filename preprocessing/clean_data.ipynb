{
 "cells": [
  {
   "cell_type": "code",
   "execution_count": 14,
   "id": "2e26254c",
   "metadata": {},
   "outputs": [],
   "source": [
    "import pandas as pd\n",
    "import numpy as np\n",
    "import spacy\n",
    "import re\n",
    "import os\n",
    "import joblib\n",
    "from sklearn.feature_extraction.text import TfidfVectorizer\n",
    "from sklearn.model_selection import train_test_split"
   ]
  },
  {
   "cell_type": "code",
   "execution_count": 15,
   "id": "c557077a",
   "metadata": {},
   "outputs": [
    {
     "name": "stdout",
     "output_type": "stream",
     "text": [
      "Loading data...\n"
     ]
    }
   ],
   "source": [
    "# Make sure the data directory exists\n",
    "os.makedirs(\"../data\", exist_ok=True)\n",
    "\n",
    "print(\"Loading data...\")\n",
    "# Charger les données\n",
    "data = pd.read_json(\"../data/reviews.json\", lines=True)\n"
   ]
  },
  {
   "cell_type": "code",
   "execution_count": 16,
   "id": "defb8445",
   "metadata": {},
   "outputs": [
    {
     "name": "stdout",
     "output_type": "stream",
     "text": [
      "Données chargées: 10261 critiques\n",
      "\n",
      "Aperçu des données:\n",
      "       reviewerID        asin  \\\n",
      "0  A2IBPI20UZIR0U  1384719342   \n",
      "1  A14VAT5EAX3D9S  1384719342   \n",
      "\n",
      "                                       reviewerName   helpful  \\\n",
      "0  cassandra tu \"Yeah, well, that's just like, u...    [0, 0]   \n",
      "1                                              Jake  [13, 14]   \n",
      "\n",
      "                                          reviewText  overall summary  \\\n",
      "0  Not much to write about here, but it does exac...        5    good   \n",
      "1  The product does exactly as it should and is q...        5    Jake   \n",
      "\n",
      "   unixReviewTime   reviewTime  \n",
      "0      1393545600  02 28, 2014  \n",
      "1      1363392000  03 16, 2013  \n",
      "\n",
      "Types des colonnes:\n",
      "reviewerID        object\n",
      "asin              object\n",
      "reviewerName      object\n",
      "helpful           object\n",
      "reviewText        object\n",
      "overall            int64\n",
      "summary           object\n",
      "unixReviewTime     int64\n",
      "reviewTime        object\n",
      "dtype: object\n",
      "\n",
      "Statistiques sur les notes (overall):\n",
      "count    10261.000000\n",
      "mean         4.488744\n",
      "std          0.894642\n",
      "min          1.000000\n",
      "25%          4.000000\n",
      "50%          5.000000\n",
      "75%          5.000000\n",
      "max          5.000000\n",
      "Name: overall, dtype: float64\n",
      "\n",
      "Distribution des notes:\n",
      "overall\n",
      "1     217\n",
      "2     250\n",
      "3     772\n",
      "4    2084\n",
      "5    6938\n",
      "Name: count, dtype: int64\n",
      "\n",
      "Vérification des valeurs nulles:\n",
      "reviewerID         0\n",
      "asin               0\n",
      "reviewerName      27\n",
      "helpful            0\n",
      "reviewText         0\n",
      "overall            0\n",
      "summary            0\n",
      "unixReviewTime     0\n",
      "reviewTime         0\n",
      "dtype: int64\n"
     ]
    }
   ],
   "source": [
    "# Afficher des informations sur les données\n",
    "print(f\"Données chargées: {data.shape[0]} critiques\")\n",
    "print(\"\\nAperçu des données:\")\n",
    "print(data.head(2))\n",
    "\n",
    "print(\"\\nTypes des colonnes:\")\n",
    "print(data.dtypes)\n",
    "\n",
    "print(\"\\nStatistiques sur les notes (overall):\")\n",
    "print(data['overall'].describe())\n",
    "print(\"\\nDistribution des notes:\")\n",
    "print(data['overall'].value_counts().sort_index())\n",
    "\n",
    "print(\"\\nVérification des valeurs nulles:\")\n",
    "print(data.isnull().sum())\n"
   ]
  },
  {
   "cell_type": "code",
   "execution_count": 17,
   "id": "b08ac174",
   "metadata": {},
   "outputs": [
    {
     "name": "stdout",
     "output_type": "stream",
     "text": [
      "\n",
      "Nettoyage du texte...\n"
     ]
    }
   ],
   "source": [
    "# Nettoyage du texte\n",
    "print(\"\\nNettoyage du texte...\")\n",
    "def clean_text(text):\n",
    "    # Convert to string in case we have non-string inputs\n",
    "    text = str(text)\n",
    "    # Remove non-alphabetic characters (except spaces)\n",
    "    text = re.sub(r'[^a-zA-Z\\s]', '', text)\n",
    "    # Convert to lowercase\n",
    "    text = text.lower()\n",
    "    # Remove extra spaces\n",
    "    text = re.sub(r'\\s+', ' ', text).strip()\n",
    "    return text\n",
    "\n",
    "data['cleaned_text'] = data['reviewText'].apply(clean_text)\n"
   ]
  },
  {
   "cell_type": "code",
   "execution_count": 18,
   "id": "2f7b7df5",
   "metadata": {},
   "outputs": [
    {
     "name": "stdout",
     "output_type": "stream",
     "text": [
      "Textes vides après nettoyage: 7\n"
     ]
    }
   ],
   "source": [
    "# Check for empty text after cleaning\n",
    "empty_text_count = (data['cleaned_text'] == '').sum()\n",
    "print(f\"Textes vides après nettoyage: {empty_text_count}\")\n",
    "if empty_text_count > 0:\n",
    "    # Replace empty text with a placeholder\n",
    "    data['cleaned_text'] = data['cleaned_text'].replace('', 'no text available')\n"
   ]
  },
  {
   "cell_type": "code",
   "execution_count": 19,
   "id": "16dbc2fe",
   "metadata": {},
   "outputs": [
    {
     "name": "stdout",
     "output_type": "stream",
     "text": [
      "\n",
      "Chargement du modèle spaCy...\n",
      "Lemmatisation des textes...\n"
     ]
    }
   ],
   "source": [
    "# Lemmatisation avec spaCy\n",
    "print(\"\\nChargement du modèle spaCy...\")\n",
    "try:\n",
    "    nlp = spacy.load(\"en_core_web_sm\")\n",
    "except OSError:\n",
    "    print(\"Téléchargement du modèle spaCy...\")\n",
    "    import subprocess\n",
    "    subprocess.run([\"python\", \"-m\", \"spacy\", \"download\", \"en_core_web_sm\"])\n",
    "    nlp = spacy.load(\"en_core_web_sm\")\n",
    "\n",
    "print(\"Lemmatisation des textes...\")\n",
    "def lemmatize(text):\n",
    "    # Limit text length for processing efficiency\n",
    "    text = text[:100000]  # Limit to first 100K chars to avoid memory issues\n",
    "    doc = nlp(text)\n",
    "    # Get lemmas for tokens that aren't stop words\n",
    "    lemmas = [token.lemma_ for token in doc if not token.is_stop]\n",
    "    if not lemmas:  # If all tokens were stop words\n",
    "        return text  # Return original cleaned text\n",
    "    return ' '.join(lemmas)\n"
   ]
  },
  {
   "cell_type": "code",
   "execution_count": 20,
   "id": "4c564cd2",
   "metadata": {},
   "outputs": [
    {
     "name": "stdout",
     "output_type": "stream",
     "text": [
      "Application de la lemmatisation...\n",
      "Traitement: 0/10261\n",
      "Traitement: 1000/10261\n",
      "Traitement: 2000/10261\n",
      "Traitement: 3000/10261\n",
      "Traitement: 4000/10261\n",
      "Traitement: 5000/10261\n",
      "Traitement: 6000/10261\n",
      "Traitement: 7000/10261\n",
      "Traitement: 8000/10261\n",
      "Traitement: 9000/10261\n",
      "Traitement: 10000/10261\n"
     ]
    }
   ],
   "source": [
    "# Apply lemmatization with error handling\n",
    "print(\"Application de la lemmatisation...\")\n",
    "lemmatized_texts = []\n",
    "for i, text in enumerate(data['cleaned_text']):\n",
    "    try:\n",
    "        lemmatized = lemmatize(text)\n",
    "        lemmatized_texts.append(lemmatized)\n",
    "        if i % 1000 == 0:\n",
    "            print(f\"Traitement: {i}/{len(data)}\")\n",
    "    except Exception as e:\n",
    "        print(f\"Erreur lors de la lemmatisation de l'index {i}: {e}\")\n",
    "        lemmatized_texts.append(text)  # Use cleaned text as fallback\n",
    "\n",
    "data['lemmatized_text'] = lemmatized_texts\n"
   ]
  },
  {
   "cell_type": "code",
   "execution_count": 21,
   "id": "73c6a374",
   "metadata": {},
   "outputs": [
    {
     "name": "stdout",
     "output_type": "stream",
     "text": [
      "\n",
      "Définition des classes de sentiment...\n"
     ]
    }
   ],
   "source": [
    "# Définir la classe cible\n",
    "print(\"\\nDéfinition des classes de sentiment...\")\n",
    "def label(overall):\n",
    "    # Ensure overall is a number\n",
    "    try:\n",
    "        overall = float(overall)\n",
    "    except (ValueError, TypeError):\n",
    "        return None  # Return None for invalid values\n",
    "        \n",
    "    if overall < 3:\n",
    "        return 0  # négatif\n",
    "    elif overall == 3:\n",
    "        return 1  # neutre\n",
    "    else:\n",
    "        return 2  # positif\n",
    "\n",
    "data['label'] = data['overall'].apply(label)\n"
   ]
  },
  {
   "cell_type": "code",
   "execution_count": 22,
   "id": "4b369daf",
   "metadata": {},
   "outputs": [],
   "source": [
    "# Verify there are no None values in label\n",
    "null_labels = data['label'].isnull().sum()\n",
    "if null_labels > 0:\n",
    "    print(f\"ATTENTION: {null_labels} étiquettes nulles trouvées!\")\n",
    "    print(\"Suppression des lignes avec des étiquettes nulles...\")\n",
    "    data = data.dropna(subset=['label'])\n"
   ]
  },
  {
   "cell_type": "code",
   "execution_count": 23,
   "id": "e544c760",
   "metadata": {},
   "outputs": [
    {
     "name": "stdout",
     "output_type": "stream",
     "text": [
      "\n",
      "Distribution des classes de sentiment:\n",
      "label\n",
      "0     467\n",
      "1     772\n",
      "2    9022\n",
      "Name: count, dtype: int64\n"
     ]
    }
   ],
   "source": [
    "# Ensure label is integer type\n",
    "data['label'] = data['label'].astype(int)\n",
    "\n",
    "print(\"\\nDistribution des classes de sentiment:\")\n",
    "print(data['label'].value_counts().sort_index())"
   ]
  },
  {
   "cell_type": "code",
   "execution_count": 24,
   "id": "050a5b2b",
   "metadata": {},
   "outputs": [
    {
     "name": "stdout",
     "output_type": "stream",
     "text": [
      "\n",
      "Vectorisation TF-IDF...\n",
      "Forme du corpus vectorisé: (10261, 5000)\n"
     ]
    }
   ],
   "source": [
    "# Vectorisation TF-IDF\n",
    "print(\"\\nVectorisation TF-IDF...\")\n",
    "vectorizer = TfidfVectorizer(max_features=5000)\n",
    "X = vectorizer.fit_transform(data['lemmatized_text'])\n",
    "\n",
    "print(f\"Forme du corpus vectorisé: {X.shape}\")\n"
   ]
  },
  {
   "cell_type": "code",
   "execution_count": 26,
   "id": "47e220e8",
   "metadata": {},
   "outputs": [
    {
     "name": "stdout",
     "output_type": "stream",
     "text": [
      "\n",
      "Découpage des données en train/val/test...\n",
      "Ensemble d'entraînement: 8208 échantillons\n",
      "Ensemble de validation: 1026 échantillons\n",
      "Ensemble de test: 1027 échantillons\n",
      "\n",
      "Sauvegarde des données traitées...\n",
      "Sauvegarde en CSV (pour Spark)...\n"
     ]
    }
   ],
   "source": [
    "# Sauvegarde pour entraînement futur\n",
    "print(\"\\nDécoupage des données en train/val/test...\")\n",
    "y = data['label']\n",
    "X_train, X_temp, y_train, y_temp = train_test_split(X, y, test_size=0.2, random_state=42)\n",
    "X_val, X_test, y_val, y_test = train_test_split(X_temp, y_temp, test_size=0.5)\n",
    "\n",
    "print(f\"Ensemble d'entraînement: {X_train.shape[0]} échantillons\")\n",
    "print(f\"Ensemble de validation: {X_val.shape[0]} échantillons\")\n",
    "print(f\"Ensemble de test: {X_test.shape[0]} échantillons\")\n",
    "\n",
    "# Sauvegardes\n",
    "print(\"\\nSauvegarde des données traitées...\")\n",
    "\n",
    "# Sauvegarde pour PySpark/ML\n",
    "print(\"Sauvegarde en CSV (pour Spark)...\")\n",
    "# Select columns needed for Spark ML\n",
    "columns_for_spark = ['reviewerID', 'overall', 'lemmatized_text', 'label']\n",
    "data_for_spark = data[columns_for_spark].copy()\n"
   ]
  },
  {
   "cell_type": "code",
   "execution_count": 27,
   "id": "d809c55d",
   "metadata": {},
   "outputs": [
    {
     "name": "stdout",
     "output_type": "stream",
     "text": [
      "\n",
      "Vérification finale avant sauvegarde:\n",
      "Types des colonnes:\n",
      "reviewerID         object\n",
      "overall             int64\n",
      "lemmatized_text    object\n",
      "label               int64\n",
      "dtype: object\n",
      "\n",
      "Aperçu des données à sauvegarder:\n",
      "       reviewerID  overall                                    lemmatized_text  \\\n",
      "0  A2IBPI20UZIR0U        5  write exactly suppose filters pop sound record...   \n",
      "1  A14VAT5EAX3D9S        5  product exactly affordablei realize double scr...   \n",
      "2  A195EZSQDW3E21        5  primary job device block breath produce poppin...   \n",
      "3  A2C00NNG1ZQQG2        5  nice windscreen protect mxl mic prevent pop th...   \n",
      "4   A94QU4C90B1AX        5  pop filter great look perform like studio filt...   \n",
      "\n",
      "   label  \n",
      "0      2  \n",
      "1      2  \n",
      "2      2  \n",
      "3      2  \n",
      "4      2  \n"
     ]
    }
   ],
   "source": [
    "# Final verification before saving\n",
    "print(\"\\nVérification finale avant sauvegarde:\")\n",
    "print(\"Types des colonnes:\")\n",
    "print(data_for_spark.dtypes)\n",
    "print(\"\\nAperçu des données à sauvegarder:\")\n",
    "print(data_for_spark.head())\n"
   ]
  },
  {
   "cell_type": "code",
   "execution_count": 28,
   "id": "c6bb7b07",
   "metadata": {},
   "outputs": [
    {
     "name": "stdout",
     "output_type": "stream",
     "text": [
      "Sauvegarde du vectoriseur...\n",
      "Sauvegarde du modèle spaCy...\n",
      "Sauvegarde des matrices NumPy...\n",
      "\n",
      "Vérification finale avant sauvegarde:\n",
      "Types des colonnes:\n",
      "reviewerID         object\n",
      "overall             int64\n",
      "lemmatized_text    object\n",
      "label               int64\n",
      "dtype: object\n",
      "\n",
      "Aperçu des données à sauvegarder:\n",
      "       reviewerID  overall                                    lemmatized_text  \\\n",
      "0  A2IBPI20UZIR0U        5  write exactly suppose filters pop sound record...   \n",
      "1  A14VAT5EAX3D9S        5  product exactly affordablei realize double scr...   \n",
      "2  A195EZSQDW3E21        5  primary job device block breath produce poppin...   \n",
      "3  A2C00NNG1ZQQG2        5  nice windscreen protect mxl mic prevent pop th...   \n",
      "4   A94QU4C90B1AX        5  pop filter great look perform like studio filt...   \n",
      "\n",
      "   label  \n",
      "0      2  \n",
      "1      2  \n",
      "2      2  \n",
      "3      2  \n",
      "4      2  \n",
      "\n",
      "Traitement terminé. Données sauvegardées dans le dossier ../data/\n"
     ]
    }
   ],
   "source": [
    "# Save to CSV\n",
    "data_for_spark.to_csv(\"../data/cleaned_reviews.csv\", index=False)\n",
    "\n",
    "# Save vectorizer model\n",
    "print(\"Sauvegarde du vectoriseur...\")\n",
    "joblib.dump(vectorizer, \"../data/vectorizer.pkl\")\n",
    "\n",
    "# Save spaCy model\n",
    "print(\"Sauvegarde du modèle spaCy...\")\n",
    "nlp.to_disk(\"../data/spacy_model\")\n",
    "\n",
    "# Save NumPy arrays\n",
    "print(\"Sauvegarde des matrices NumPy...\")\n",
    "np.savez(\"../data/processed_data.npz\", \n",
    "         X_train=X_train.toarray(), \n",
    "         y_train=y_train,\n",
    "         X_val=X_val.toarray(), \n",
    "         y_val=y_val, \n",
    "         X_test=X_test.toarray(), \n",
    "         y_test=y_test)\n",
    "\n",
    "\n",
    "print(\"\\nVérification finale avant sauvegarde:\")\n",
    "print(\"Types des colonnes:\")\n",
    "print(data_for_spark.dtypes)\n",
    "print(\"\\nAperçu des données à sauvegarder:\")\n",
    "print(data_for_spark.head())\n",
    "\n",
    "print(\"\\nTraitement terminé. Données sauvegardées dans le dossier ../data/\")"
   ]
  }
 ],
 "metadata": {
  "kernelspec": {
   "display_name": ".VENV",
   "language": "python",
   "name": "python3"
  },
  "language_info": {
   "codemirror_mode": {
    "name": "ipython",
    "version": 3
   },
   "file_extension": ".py",
   "mimetype": "text/x-python",
   "name": "python",
   "nbconvert_exporter": "python",
   "pygments_lexer": "ipython3",
   "version": "3.11.12"
  }
 },
 "nbformat": 4,
 "nbformat_minor": 5
}
